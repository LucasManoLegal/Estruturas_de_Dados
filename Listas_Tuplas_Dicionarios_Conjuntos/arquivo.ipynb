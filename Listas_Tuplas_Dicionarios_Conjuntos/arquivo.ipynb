{
 "cells": [
  {
   "cell_type": "code",
   "execution_count": null,
   "metadata": {},
   "outputs": [],
   "source": [
    "# Lista\n",
    "\n",
    "lista_homogenea = (1, 2, 3, 4, 5)\n",
    "\n",
    "print(lista_homogenea)\n",
    "print(lista_homogenea[1])\n",
    "\n",
    "lista_heterogenea = (1, 3.14, \"Texto\", True)\n",
    "\n",
    "print(lista_heterogenea)"
   ]
  },
  {
   "cell_type": "code",
   "execution_count": 1,
   "metadata": {},
   "outputs": [
    {
     "name": "stdout",
     "output_type": "stream",
     "text": [
      "(1, 2, 3, 4, 5)\n",
      "2\n",
      "(1, 3.14, 'Texto', True)\n"
     ]
    }
   ],
   "source": [
    "# Tupla\n",
    "\n",
    "tupla_homogenea = (6, 7, 8, 9, 10)\n",
    "\n",
    "print(tupla_homogenea)\n",
    "print(tupla_homogenea[2])\n",
    "\n",
    "tupla_heterogenea = (2, 9.18, \"python\", False)\n",
    "\n",
    "print(tupla_heterogenea)"
   ]
  },
  {
   "cell_type": "code",
   "execution_count": 8,
   "metadata": {},
   "outputs": [
    {
     "name": "stdout",
     "output_type": "stream",
     "text": [
      "{'nome': 'Lucas', 'Idade': '17', 'Curso': 'Ciência de Dados'}\n",
      "Lucas\n",
      "{'nome': 'Lucas', 'Idade': '17', 'Curso': 'Ciência de Dados', 'Email': 'lucas@email.com'}\n",
      "{'nome': 'Lucas', 'Idade': '18', 'Curso': 'Ciência de Dados', 'Email': 'lucas@email.com'}\n",
      "{'nome': 'Lucas', 'Idade': '18', 'Email': 'lucas@email.com'}\n",
      "nome: Lucas\n",
      "Idade: 18\n",
      "Email: lucas@email.com\n",
      "Dados do aluno: \n",
      "nome: Lucas\n",
      "Idade: 17\n",
      "Curso: Ciência de Dados\n",
      "--------------------\n",
      "Dados do aluno: \n",
      "nome: Breno\n",
      "Idade: 18\n",
      "Curso: Ciência de Dados\n",
      "--------------------\n",
      "Dados do aluno: \n",
      "nome: Gabriel\n",
      "Idade: 18\n",
      "Curso: Ciência de Dados\n",
      "--------------------\n"
     ]
    }
   ],
   "source": [
    "# Dicionário\n",
    "\n",
    "aluno = {\n",
    "    \"Nome\": \"Lucas\",\n",
    "    \"Idade\": \"17\",\n",
    "    \"Curso\": \"Ciência de Dados\"\n",
    "}\n",
    "\n",
    "print(aluno)\n",
    "\n",
    "# Acessando valores pela chave\n",
    "print(aluno[\"nome\"])\n",
    "\n",
    "# Adicionando um novo par chave-valor \n",
    "aluno[\"Email\"] = \"lucas@email.com\"\n",
    "\n",
    "print(aluno)\n",
    "\n",
    "aluno[\"Idade\"] = \"18\"\n",
    "\n",
    "print(aluno)\n",
    "\n",
    "# Removendo item pela chave\n",
    "del aluno[\"Curso\"]\n",
    "print(aluno)\n",
    "\n",
    "#Iterando sobre o dicionário\n",
    "for chave, valor in aluno.items():\n",
    "    print(f\"{chave}: {valor}\")\n",
    "\n",
    "# Lista de Dicionário\n",
    "\n",
    "alunos = [\n",
    "    {\n",
    "    \"Nome\": \"Lucas\",\n",
    "    \"Idade\": \"17\",\n",
    "    \"Curso\": \"Ciência de Dados\"\n",
    "    },\n",
    "    {\n",
    "    \"Nome\": \"Breno\",\n",
    "    \"Idade\": \"18\",\n",
    "    \"Curso\": \"Ciência de Dados\"\n",
    "    },\n",
    "    {\n",
    "    \"Nome\": \"Gabriel\",\n",
    "    \"Idade\": \"18\",\n",
    "    \"Curso\": \"Ciência de Dados\"\n",
    "    }\n",
    "]\n",
    "\n",
    "for aluno in alunos:\n",
    "    print(f\"Dados do aluno: \")\n",
    "    for chave, valor in aluno.items():\n",
    "        print(f\"{chave}: {valor}\")\n",
    "    print(\"-\" * 20)\n",
    " "
   ]
  },
  {
   "cell_type": "code",
   "execution_count": 12,
   "metadata": {},
   "outputs": [
    {
     "name": "stdout",
     "output_type": "stream",
     "text": [
      "{'banana', 'uva', 'maça'}\n",
      "{'banana', 'kiwi', 'uva', 'maça'}\n",
      "{'kiwi', 'uva', 'maça'}\n",
      "kiwi\n",
      "uva\n",
      "maça\n"
     ]
    }
   ],
   "source": [
    "# Conjunto\n",
    "\n",
    "frutas = {\"maça\", \"banana\", \"uva\"}\n",
    "print(frutas)\n",
    "\n",
    "# Adicionando elemento ao conjunto\n",
    "frutas.add(\"kiwi\")\n",
    "print(frutas)\n",
    "\n",
    "# Removendo elemento do conjunto\n",
    "frutas.remove(\"banana\")\n",
    "print(frutas)\n",
    "\n",
    "# Iterando sobre o conjunto\n",
    "for fruta in frutas:\n",
    "    print(fruta)"
   ]
  },
  {
   "cell_type": "code",
   "execution_count": 24,
   "metadata": {},
   "outputs": [
    {
     "name": "stdout",
     "output_type": "stream",
     "text": [
      "{1, 2, 3, 4, 5, 6, 7, 8, 9, 10}\n",
      "{'Javascript', 'C#'}\n",
      "{'Python'}\n",
      "{'Go', 'Python'}\n"
     ]
    }
   ],
   "source": [
    "# Operações entre conujuntos\n",
    "\n",
    "# União : elementos de ambos os conjuntos\n",
    "conjunto_a = {1, 2, 3, 4, 5}\n",
    "conjunto_b = {6, 7, 8, 9, 10}\n",
    "\n",
    "conjunto_c = conjunto_a.union(conjunto_b)\n",
    "\n",
    "print(conjunto_c)\n",
    "\n",
    "# Intersecção : elementos comuns aos conjuntos\n",
    "\n",
    "conjunto_a = {\"Python\", \"Javascript\", \"C#\"}\n",
    "conjunto_b = {\"C#\", \"Go\", \"Javascript\"}\n",
    "\n",
    "conjunto_c = conjunto_a.intersection(conjunto_b)\n",
    "\n",
    "print(conjunto_c)\n",
    "\n",
    "# Diferença : elementos que estão no conjunto A, mas não estão no conjunto B\n",
    "\n",
    "conjunto_c = conjunto_a.difference(conjunto_b)\n",
    "\n",
    "print(conjunto_c)\n",
    "\n",
    "# Diferença simétrica : elementos de ambos os conjuntos, exceto itens que estão presentes em ambos os conjuntos:\n",
    "\n",
    "conjunto_c = conjunto_a.symmetric_difference(conjunto_b)\n",
    "\n",
    "print(conjunto_c)"
   ]
  }
 ],
 "metadata": {
  "kernelspec": {
   "display_name": "Python 3",
   "language": "python",
   "name": "python3"
  },
  "language_info": {
   "codemirror_mode": {
    "name": "ipython",
    "version": 3
   },
   "file_extension": ".py",
   "mimetype": "text/x-python",
   "name": "python",
   "nbconvert_exporter": "python",
   "pygments_lexer": "ipython3",
   "version": "3.12.1"
  }
 },
 "nbformat": 4,
 "nbformat_minor": 2
}
