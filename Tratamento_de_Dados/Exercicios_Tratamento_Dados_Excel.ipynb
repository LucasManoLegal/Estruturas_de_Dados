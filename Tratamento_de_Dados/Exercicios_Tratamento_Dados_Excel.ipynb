{
 "cells": [
  {
   "cell_type": "code",
   "execution_count": 1,
   "id": "a52273c3",
   "metadata": {},
   "outputs": [
    {
     "data": {
      "text/html": [
       "<div>\n",
       "<style scoped>\n",
       "    .dataframe tbody tr th:only-of-type {\n",
       "        vertical-align: middle;\n",
       "    }\n",
       "\n",
       "    .dataframe tbody tr th {\n",
       "        vertical-align: top;\n",
       "    }\n",
       "\n",
       "    .dataframe thead th {\n",
       "        text-align: right;\n",
       "    }\n",
       "</style>\n",
       "<table border=\"1\" class=\"dataframe\">\n",
       "  <thead>\n",
       "    <tr style=\"text-align: right;\">\n",
       "      <th></th>\n",
       "      <th>Nome</th>\n",
       "      <th>Idade</th>\n",
       "      <th>Cidade</th>\n",
       "      <th>Salário</th>\n",
       "    </tr>\n",
       "  </thead>\n",
       "  <tbody>\n",
       "    <tr>\n",
       "      <th>0</th>\n",
       "      <td>João</td>\n",
       "      <td>28.0</td>\n",
       "      <td>São Paulo</td>\n",
       "      <td>3500.0</td>\n",
       "    </tr>\n",
       "    <tr>\n",
       "      <th>1</th>\n",
       "      <td>Maria</td>\n",
       "      <td>NaN</td>\n",
       "      <td>Rio de Janeiro</td>\n",
       "      <td>4500.0</td>\n",
       "    </tr>\n",
       "    <tr>\n",
       "      <th>2</th>\n",
       "      <td>José</td>\n",
       "      <td>35.0</td>\n",
       "      <td>NaN</td>\n",
       "      <td>NaN</td>\n",
       "    </tr>\n",
       "    <tr>\n",
       "      <th>3</th>\n",
       "      <td>Ana</td>\n",
       "      <td>22.0</td>\n",
       "      <td>Salvador</td>\n",
       "      <td>5000.0</td>\n",
       "    </tr>\n",
       "    <tr>\n",
       "      <th>4</th>\n",
       "      <td>Pedro</td>\n",
       "      <td>NaN</td>\n",
       "      <td>Porto Alegre</td>\n",
       "      <td>4800.0</td>\n",
       "    </tr>\n",
       "  </tbody>\n",
       "</table>\n",
       "</div>"
      ],
      "text/plain": [
       "    Nome  Idade          Cidade  Salário\n",
       "0   João   28.0       São Paulo   3500.0\n",
       "1  Maria    NaN  Rio de Janeiro   4500.0\n",
       "2   José   35.0             NaN      NaN\n",
       "3    Ana   22.0        Salvador   5000.0\n",
       "4  Pedro    NaN    Porto Alegre   4800.0"
      ]
     },
     "execution_count": 1,
     "metadata": {},
     "output_type": "execute_result"
    }
   ],
   "source": [
    "# 1. Exercício: Carregar um arquivo e exibir as primeiras 5 linhas.\n",
    "\n",
    "import pandas as pd\n",
    "\n",
    "df = pd.read_excel('dados_ausentes.xlsx')\n",
    "df.head()"
   ]
  },
  {
   "cell_type": "code",
   "execution_count": 2,
   "id": "d7655a3c",
   "metadata": {},
   "outputs": [
    {
     "data": {
      "text/plain": [
       "Nome       0\n",
       "Idade      2\n",
       "Cidade     1\n",
       "Salário    1\n",
       "dtype: int64"
      ]
     },
     "execution_count": 2,
     "metadata": {},
     "output_type": "execute_result"
    }
   ],
   "source": [
    "# 2. Exercício: Verificar se há valores NaN nas colunas do DataFrame.\n",
    "\n",
    "df.isna().sum()"
   ]
  },
  {
   "cell_type": "code",
   "execution_count": 3,
   "id": "56ad6cb0",
   "metadata": {},
   "outputs": [
    {
     "name": "stdout",
     "output_type": "stream",
     "text": [
      "      Nome  Idade          Cidade  Salário\n",
      "0     João   28.0       São Paulo   3500.0\n",
      "1    Maria    NaN  Rio de Janeiro   4500.0\n",
      "2     José   35.0             NaN      0.0\n",
      "3      Ana   22.0        Salvador   5000.0\n",
      "4    Pedro    NaN    Porto Alegre   4800.0\n",
      "5      Ana   22.0        Salvador   5000.0\n",
      "6  Jessica   20.0       são paulo   3410.0\n",
      "7   Carlos   35.0    porto alegre   2500.0\n"
     ]
    }
   ],
   "source": [
    "# 3. Exercício: Substituir os valores NaN de uma coluna por 0.\n",
    "\n",
    "df['Salário'] = df['Salário'].fillna(0)\n",
    "print(df)\n"
   ]
  },
  {
   "cell_type": "code",
   "execution_count": 4,
   "id": "937343c8",
   "metadata": {},
   "outputs": [
    {
     "name": "stdout",
     "output_type": "stream",
     "text": [
      "      Nome  Idade          Cidade  Salário\n",
      "0     João   28.0       São Paulo   3500.0\n",
      "1    Maria   27.0  Rio de Janeiro   4500.0\n",
      "2     José   35.0             NaN      0.0\n",
      "3      Ana   22.0        Salvador   5000.0\n",
      "4    Pedro   27.0    Porto Alegre   4800.0\n",
      "5      Ana   22.0        Salvador   5000.0\n",
      "6  Jessica   20.0       são paulo   3410.0\n",
      "7   Carlos   35.0    porto alegre   2500.0\n"
     ]
    }
   ],
   "source": [
    "# 4. Exercício: Substituir os valores NaN de uma coluna por um valor específico (por exemplo, a média).\n",
    "\n",
    "media = df['Idade'].mean()\n",
    "df['Idade'] = df['Idade'].fillna(media)\n",
    "print(df)\n"
   ]
  },
  {
   "cell_type": "code",
   "execution_count": 5,
   "id": "9e3c6f56",
   "metadata": {},
   "outputs": [
    {
     "name": "stdout",
     "output_type": "stream",
     "text": [
      "      Nome  Idade          Cidade  Salário\n",
      "0     João   28.0       São Paulo   3500.0\n",
      "1    Maria   27.0  Rio de Janeiro   4500.0\n",
      "3      Ana   22.0        Salvador   5000.0\n",
      "4    Pedro   27.0    Porto Alegre   4800.0\n",
      "5      Ana   22.0        Salvador   5000.0\n",
      "6  Jessica   20.0       são paulo   3410.0\n",
      "7   Carlos   35.0    porto alegre   2500.0\n"
     ]
    }
   ],
   "source": [
    "# 5. Exercício: Remover todas as linhas que contêm valores NaN em qualquer coluna\n",
    "\n",
    "df = df.dropna()\n",
    "print(df)"
   ]
  },
  {
   "cell_type": "code",
   "execution_count": 10,
   "id": "87661944",
   "metadata": {},
   "outputs": [
    {
     "name": "stdout",
     "output_type": "stream",
     "text": [
      "      Nome  Idade          Cidade  Salário\n",
      "0     João   28.0       São Paulo   3500.0\n",
      "1    Maria    NaN  Rio de Janeiro   4500.0\n",
      "3      Ana   22.0        Salvador   5000.0\n",
      "4    Pedro    NaN    Porto Alegre   4800.0\n",
      "5      Ana   22.0        Salvador   5000.0\n",
      "6  Jessica   20.0       são paulo   3410.0\n",
      "7   Carlos   35.0    porto alegre   2500.0\n"
     ]
    }
   ],
   "source": [
    "# 6. Exercício: Remover todas as linhas que contêm valores NaN em uma coluna específica.\n",
    "\n",
    "df2 = pd.read_excel(\"dados_ausentes.xlsx\")\n",
    "df2 = df2[df2['Salário'].notna()]\n",
    "\n",
    "print(df2)"
   ]
  },
  {
   "cell_type": "code",
   "execution_count": 11,
   "id": "f87709a0",
   "metadata": {},
   "outputs": [
    {
     "name": "stdout",
     "output_type": "stream",
     "text": [
      "      Nome  Idade          Cidade  Salário\n",
      "0     João   28.0       São Paulo   3500.0\n",
      "1    Maria   22.0  Rio de Janeiro   4500.0\n",
      "3      Ana   22.0        Salvador   5000.0\n",
      "4    Pedro   22.0    Porto Alegre   4800.0\n",
      "5      Ana   22.0        Salvador   5000.0\n",
      "6  Jessica   20.0       são paulo   3410.0\n",
      "7   Carlos   35.0    porto alegre   2500.0\n"
     ]
    }
   ],
   "source": [
    "# 7. Exercício: Substituir valores NaN de uma coluna com a mediana dessa coluna.\n",
    "\n",
    "mediana = df2['Idade'].median()\n",
    "df2['Idade'] = df2['Idade'].fillna(mediana)\n",
    "\n",
    "print(df2)"
   ]
  },
  {
   "cell_type": "code",
   "execution_count": 13,
   "id": "0707097b",
   "metadata": {},
   "outputs": [
    {
     "name": "stdout",
     "output_type": "stream",
     "text": [
      "      Nome   Idade          Cidade  Salário\n",
      "0     João    28.0       São Paulo   3500.0\n",
      "1    Maria  4500.0  Rio de Janeiro   4500.0\n",
      "2     José    35.0             NaN      NaN\n",
      "3      Ana    22.0        Salvador   5000.0\n",
      "4    Pedro  4800.0    Porto Alegre   4800.0\n",
      "5      Ana    22.0        Salvador   5000.0\n",
      "6  Jessica    20.0       são paulo   3410.0\n",
      "7   Carlos    35.0    porto alegre   2500.0\n"
     ]
    }
   ],
   "source": [
    "# 8. Exercício: Substituir valores NaN de uma coluna com o valor de uma outra coluna.\n",
    "df3 = pd.read_excel(\"dados_ausentes.xlsx\")\n",
    "df3['Idade'] = df3['Idade'].fillna(df3['Salário'])\n",
    "\n",
    "print(df3)"
   ]
  },
  {
   "cell_type": "code",
   "execution_count": 14,
   "id": "b3cd0554",
   "metadata": {},
   "outputs": [
    {
     "name": "stdout",
     "output_type": "stream",
     "text": [
      "      Nome  Idade          Cidade  Salário\n",
      "0     João   28.0       São Paulo   3500.0\n",
      "1    Maria   28.0  Rio de Janeiro   4500.0\n",
      "2     José   35.0  Rio de Janeiro   4500.0\n",
      "3      Ana   22.0        Salvador   5000.0\n",
      "4    Pedro   22.0    Porto Alegre   4800.0\n",
      "5      Ana   22.0        Salvador   5000.0\n",
      "6  Jessica   20.0       são paulo   3410.0\n",
      "7   Carlos   35.0    porto alegre   2500.0\n"
     ]
    },
    {
     "name": "stderr",
     "output_type": "stream",
     "text": [
      "C:\\Users\\49439967870\\AppData\\Local\\Temp\\ipykernel_20076\\29806305.py:3: FutureWarning: DataFrame.fillna with 'method' is deprecated and will raise in a future version. Use obj.ffill() or obj.bfill() instead.\n",
      "  df3 = df3.fillna(method='ffill')\n"
     ]
    }
   ],
   "source": [
    "# 9. Exercício: Preencher valores NaN com o valor anterior (método de \"forward fill\").\n",
    "df3 = pd.read_excel(\"dados_ausentes.xlsx\")\n",
    "df3 = df3.fillna(method='ffill')\n",
    "\n",
    "print(df3)"
   ]
  },
  {
   "cell_type": "code",
   "execution_count": 15,
   "id": "903cb282",
   "metadata": {},
   "outputs": [
    {
     "name": "stdout",
     "output_type": "stream",
     "text": [
      "      Nome  Idade          Cidade  Salário\n",
      "0     João   28.0       São Paulo   3500.0\n",
      "1    Maria   35.0  Rio de Janeiro   4500.0\n",
      "2     José   35.0        Salvador   5000.0\n",
      "3      Ana   22.0        Salvador   5000.0\n",
      "4    Pedro   22.0    Porto Alegre   4800.0\n",
      "5      Ana   22.0        Salvador   5000.0\n",
      "6  Jessica   20.0       são paulo   3410.0\n",
      "7   Carlos   35.0    porto alegre   2500.0\n"
     ]
    },
    {
     "name": "stderr",
     "output_type": "stream",
     "text": [
      "C:\\Users\\49439967870\\AppData\\Local\\Temp\\ipykernel_20076\\2081469987.py:3: FutureWarning: DataFrame.fillna with 'method' is deprecated and will raise in a future version. Use obj.ffill() or obj.bfill() instead.\n",
      "  df4 = df4.fillna(method='bfill')\n"
     ]
    }
   ],
   "source": [
    "# 10. Exercício: Preencher valores NaN com o valor posterior (método de \"backward fill\").\n",
    "df4 = pd.read_excel(\"dados_ausentes.xlsx\")\n",
    "df4 = df4.fillna(method='bfill')\n",
    "\n",
    "print(df4)"
   ]
  },
  {
   "cell_type": "code",
   "execution_count": 18,
   "id": "2d3cd7ac",
   "metadata": {},
   "outputs": [
    {
     "name": "stdout",
     "output_type": "stream",
     "text": [
      "      Nome  Idade          Cidade  Salário\n",
      "0     João   28.0       SÃO PAULO   3500.0\n",
      "1    Maria    NaN  RIO DE JANEIRO   4500.0\n",
      "2     José   35.0             NaN      NaN\n",
      "3      Ana   22.0        SALVADOR   5000.0\n",
      "4    Pedro    NaN    PORTO ALEGRE   4800.0\n",
      "5      Ana   22.0        SALVADOR   5000.0\n",
      "6  Jessica   20.0       SÃO PAULO   3410.0\n",
      "7   Carlos   35.0    PORTO ALEGRE   2500.0\n"
     ]
    }
   ],
   "source": [
    "# 11. Exercício: Alterar todos os valores de uma coluna para maiúsculas.\n",
    "df5 = pd.read_excel(\"dados_ausentes.xlsx\")\n",
    "df5['Cidade'] = df5['Cidade'].str.upper()\n",
    "\n",
    "print(df5)"
   ]
  },
  {
   "cell_type": "code",
   "execution_count": 19,
   "id": "89431022",
   "metadata": {},
   "outputs": [
    {
     "name": "stdout",
     "output_type": "stream",
     "text": [
      "      Nome  Idade          Cidade  Salário\n",
      "0     João   28.0       são paulo   3500.0\n",
      "1    Maria    NaN  rio de janeiro   4500.0\n",
      "2     José   35.0             NaN      NaN\n",
      "3      Ana   22.0        salvador   5000.0\n",
      "4    Pedro    NaN    porto alegre   4800.0\n",
      "5      Ana   22.0        salvador   5000.0\n",
      "6  Jessica   20.0       são paulo   3410.0\n",
      "7   Carlos   35.0    porto alegre   2500.0\n"
     ]
    }
   ],
   "source": [
    "# 12. Exercício: Alterar todos os valores de uma coluna para minúsculas.\n",
    "df5 = pd.read_excel(\"dados_ausentes.xlsx\")\n",
    "df5['Cidade'] = df5['Cidade'].str.lower()\n",
    "\n",
    "print(df5)"
   ]
  },
  {
   "cell_type": "code",
   "execution_count": 21,
   "id": "aa84622f",
   "metadata": {},
   "outputs": [
    {
     "name": "stdout",
     "output_type": "stream",
     "text": [
      "      Nome  Idade                Cidade  Salário\n",
      "0     João   28.0             São Paulo   3500.0\n",
      "1    Maria    NaN  Rio de Janeiro         4500.0\n",
      "2     José   35.0                   NaN      NaN\n",
      "3      Ana   22.0              Salvador   5000.0\n",
      "4    Pedro    NaN    Porto Alegre         4800.0\n",
      "5      Ana   22.0              Salvador   5000.0\n",
      "6  Jessica   20.0         são paulo       3410.0\n",
      "7   Carlos   35.0          porto alegre   2500.0\n",
      "      Nome  Idade          Cidade  Salário\n",
      "0     João   28.0       São Paulo   3500.0\n",
      "1    Maria    NaN  Rio de Janeiro   4500.0\n",
      "2     José   35.0             NaN      NaN\n",
      "3      Ana   22.0        Salvador   5000.0\n",
      "4    Pedro    NaN    Porto Alegre   4800.0\n",
      "5      Ana   22.0        Salvador   5000.0\n",
      "6  Jessica   20.0       são paulo   3410.0\n",
      "7   Carlos   35.0    porto alegre   2500.0\n"
     ]
    }
   ],
   "source": [
    "# 13. Exercício: Remover espaços em branco à esquerda e à direita em uma coluna.\n",
    "df6 = pd.read_excel(\"dados_espaçados.xlsx\")\n",
    "print(df6)\n",
    "df6['Cidade'] = df6['Cidade'].str.strip()\n",
    "print(df6)"
   ]
  },
  {
   "cell_type": "code",
   "execution_count": 23,
   "id": "41748ffc",
   "metadata": {},
   "outputs": [
    {
     "name": "stdout",
     "output_type": "stream",
     "text": [
      "      Nome  Idade        Cidade  Salário\n",
      "0     João   28.0            SP   3500.0\n",
      "1    Maria   27.0            RJ   4500.0\n",
      "3      Ana   22.0            SA   5000.0\n",
      "4    Pedro   27.0            PA   4800.0\n",
      "5      Ana   22.0            SA   5000.0\n",
      "6  Jessica   20.0     são paulo   3410.0\n",
      "7   Carlos   35.0  porto alegre   2500.0\n"
     ]
    }
   ],
   "source": [
    "# 14. Exercício: Substituir valores de uma coluna com base em um dicionário de mapeamento (ex: \"São Paulo\" para \"SP\").\n",
    "\n",
    "mapeamento = {'São Paulo': 'SP', 'Rio de Janeiro': 'RJ', 'Porto Alegre': 'PA', 'Salvador': 'SA'}\n",
    "df['Cidade'] = df['Cidade'].replace(mapeamento)\n",
    "\n",
    "print(df)"
   ]
  },
  {
   "cell_type": "code",
   "execution_count": 24,
   "id": "b978c6b6",
   "metadata": {},
   "outputs": [
    {
     "name": "stdout",
     "output_type": "stream",
     "text": [
      "      Nome  Idade        Cidade  Salário\n",
      "0     João   28.0            SP   3500.0\n",
      "1    Maria   27.0            RJ   4500.0\n",
      "3      Ana   22.0            SA   5000.0\n",
      "4    Pedro   27.0            PA   4800.0\n",
      "6  Jessica   20.0     são paulo   3410.0\n",
      "7   Carlos   35.0  porto alegre   2500.0\n"
     ]
    }
   ],
   "source": [
    "# 15. Exercício: Identificar e remover valores duplicados de um DataFrame.\n",
    "df = df.drop_duplicates()\n",
    "\n",
    "print(df)"
   ]
  }
 ],
 "metadata": {
  "kernelspec": {
   "display_name": "Python 3",
   "language": "python",
   "name": "python3"
  },
  "language_info": {
   "codemirror_mode": {
    "name": "ipython",
    "version": 3
   },
   "file_extension": ".py",
   "mimetype": "text/x-python",
   "name": "python",
   "nbconvert_exporter": "python",
   "pygments_lexer": "ipython3",
   "version": "3.12.1"
  }
 },
 "nbformat": 4,
 "nbformat_minor": 5
}
