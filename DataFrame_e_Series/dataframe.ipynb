{
 "cells": [
  {
   "cell_type": "code",
   "execution_count": 3,
   "metadata": {},
   "outputs": [
    {
     "name": "stdout",
     "output_type": "stream",
     "text": [
      "    Nome  Idade Naturalidade\n",
      "0   João     12           SP\n",
      "1  Maria     24           RJ\n",
      "2  Mario     35           ES\n",
      "3  Aline     14           RS\n",
      "0     João\n",
      "1    Maria\n",
      "2    Mario\n",
      "3    Aline\n",
      "Name: Nome, dtype: object\n",
      "    Nome  Idade Naturalidade\n",
      "2  Mario     35           ES\n",
      "    Nome  Idade Naturalidade\n",
      "3  Aline     14           RS\n"
     ]
    }
   ],
   "source": [
    "import pandas as pd\n",
    "\n",
    "dados = {\n",
    "    'Nome': ['João', 'Maria', 'Mario', 'Aline'],\n",
    "    'Idade': [12, 24, 35, 14],\n",
    "    'Naturalidade': ['SP', 'RJ', 'ES', 'RS']\n",
    "}\n",
    "\n",
    "df = pd.DataFrame(dados)\n",
    "\n",
    "print(df)\n",
    "\n",
    "print(df['Nome'])\n",
    "\n",
    "print(df[df['Idade'] > 30])\n",
    "\n",
    "print(df[df['Nome'] == 'Aline'])"
   ]
  },
  {
   "cell_type": "code",
   "execution_count": 4,
   "metadata": {},
   "outputs": [
    {
     "name": "stdout",
     "output_type": "stream",
     "text": [
      "    Nome  Idade Naturalidade\n",
      "0   João     12           SP\n",
      "1  Maria     24           RJ\n",
      "2  Mario     35           ES\n",
      "    Nome  Idade Naturalidade\n",
      "3  Aline     14           RS\n",
      "12\n"
     ]
    }
   ],
   "source": [
    "print(df.loc[0:2])\n",
    "\n",
    "print(df.tail(1))\n",
    "\n",
    "print(df[\"Idade\"][0])"
   ]
  }
 ],
 "metadata": {
  "kernelspec": {
   "display_name": "Python 3",
   "language": "python",
   "name": "python3"
  },
  "language_info": {
   "codemirror_mode": {
    "name": "ipython",
    "version": 3
   },
   "file_extension": ".py",
   "mimetype": "text/x-python",
   "name": "python",
   "nbconvert_exporter": "python",
   "pygments_lexer": "ipython3",
   "version": "3.12.1"
  }
 },
 "nbformat": 4,
 "nbformat_minor": 2
}
