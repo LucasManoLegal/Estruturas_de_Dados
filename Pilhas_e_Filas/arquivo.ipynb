{
 "cells": [
  {
   "cell_type": "markdown",
   "metadata": {},
   "source": [
    "## Pilha ##"
   ]
  },
  {
   "cell_type": "markdown",
   "metadata": {},
   "source": [
    "![Pilha](https://growthcode.com.br/wp-content/uploads/2021/11/image-15.jpg)"
   ]
  },
  {
   "cell_type": "code",
   "execution_count": 23,
   "metadata": {},
   "outputs": [
    {
     "name": "stdout",
     "output_type": "stream",
     "text": [
      "['a', 'b', 'c']\n",
      "O topo da pilha é: c\n",
      "['a', 'b']\n",
      "A pilha está vazia? False\n",
      "A pilha está vazia? True\n"
     ]
    }
   ],
   "source": [
    "# pilha\n",
    "\n",
    "pilha = []\n",
    "\n",
    "# Empilhando elementos\n",
    "pilha.append(\"a\")\n",
    "pilha.append(\"b\")\n",
    "pilha.append(\"c\")\n",
    "\n",
    "print(pilha)\n",
    "\n",
    "# mostra o topo da pilha\n",
    "print(f\"O topo da pilha é: {pilha[-1]}\")\n",
    "\n",
    "# remove o topo da pilha\n",
    "pilha.pop()\n",
    "\n",
    "print(pilha)\n",
    "\n",
    "# diz se a pilha está vazia\n",
    "print(f\"A pilha está vazia? {len(pilha) == 0}\")\n",
    "\n",
    "pilha.pop() # topo removido (\"b\")\n",
    "pilha.pop() # topo removido (\"a\")\n",
    "\n",
    "print(f\"A pilha está vazia? {len(pilha) == 0}\")\n"
   ]
  },
  {
   "cell_type": "markdown",
   "metadata": {},
   "source": [
    "## Fila ##"
   ]
  },
  {
   "cell_type": "markdown",
   "metadata": {},
   "source": [
    "![Fila](https://dkrn4sk0rn31v.cloudfront.net/uploads/2020/11/Estrutura-de-dados-Fila-4.png)"
   ]
  },
  {
   "cell_type": "code",
   "execution_count": 24,
   "metadata": {},
   "outputs": [
    {
     "name": "stdout",
     "output_type": "stream",
     "text": [
      "deque(['a', 'b', 'c'])\n",
      "O primeiro da fila é: a\n",
      "Removido: a\n",
      "deque(['b', 'c'])\n",
      "A pilha está vazia? False\n"
     ]
    }
   ],
   "source": [
    "# Fila\n",
    "\n",
    "from collections import deque\n",
    "\n",
    "fila = deque()\n",
    "\n",
    "fila.append(\"a\")\n",
    "fila.append(\"b\")\n",
    "fila.append(\"c\")\n",
    "\n",
    "print(fila)\n",
    "\n",
    "# Mostra o primeiro da fila\n",
    "\n",
    "print(f\"O primeiro da fila é: {fila[0]}\")\n",
    "\n",
    "# Desinfilera o primeiro elemento\n",
    "print(f\"Removido: {fila.popleft()}\")\n",
    "\n",
    "print(fila)\n",
    "\n",
    "print(f\"A pilha está vazia? {len(fila) == 0}\")"
   ]
  }
 ],
 "metadata": {
  "kernelspec": {
   "display_name": "Python 3",
   "language": "python",
   "name": "python3"
  },
  "language_info": {
   "codemirror_mode": {
    "name": "ipython",
    "version": 3
   },
   "file_extension": ".py",
   "mimetype": "text/x-python",
   "name": "python",
   "nbconvert_exporter": "python",
   "pygments_lexer": "ipython3",
   "version": "3.12.1"
  }
 },
 "nbformat": 4,
 "nbformat_minor": 2
}
